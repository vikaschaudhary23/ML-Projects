{
 "cells": [
  {
   "cell_type": "markdown",
   "id": "d6978c56",
   "metadata": {},
   "source": [
    "#           HANDWRITTEN CHARACTER RECOGNITION PROJECT"
   ]
  },
  {
   "cell_type": "markdown",
   "id": "1833a439",
   "metadata": {},
   "source": [
    "## Importing libraries"
   ]
  },
  {
   "cell_type": "code",
   "execution_count": 1,
   "id": "a05d8935",
   "metadata": {},
   "outputs": [],
   "source": [
    "import numpy as np\n",
    "import pandas as pd\n",
    "import matplotlib.pyplot as plt\n",
    "from sklearn.model_selection import train_test_split\n",
    "from sklearn.metrics import accuracy_score"
   ]
  },
  {
   "cell_type": "markdown",
   "id": "77b7a052",
   "metadata": {},
   "source": [
    "## Creating Dataset"
   ]
  },
  {
   "cell_type": "code",
   "execution_count": 2,
   "id": "131b30d5",
   "metadata": {},
   "outputs": [
    {
     "name": "stdout",
     "output_type": "stream",
     "text": [
      "{'0': 0, '1': 1, '2': 2, '3': 3, '4': 4, '5': 5, '6': 6, '7': 7, '8': 8, '9': 9, 'A': 10, 'B': 11, 'C': 12, 'D': 13, 'E': 14, 'F': 15, 'G': 16, 'H': 17, 'I': 18, 'J': 19, 'K': 20, 'L': 21, 'M': 22, 'N': 23, 'O': 24, 'P': 25, 'Q': 26, 'R': 27, 'S': 28, 'T': 29, 'U': 30, 'V': 31, 'W': 32, 'X': 33, 'Y': 34, 'Z': 35, 'a': 36, 'b': 37, 'c': 38, 'd': 39, 'e': 40, 'f': 41, 'g': 42, 'h': 43, 'i': 44, 'j': 45, 'k': 46, 'l': 47, 'm': 48, 'n': 49, 'o': 50, 'p': 51, 'q': 52, 'r': 53, 's': 54, 't': 55, 'u': 56, 'v': 57, 'w': 58, 'x': 59, 'y': 60, 'z': 61}\n"
     ]
    }
   ],
   "source": [
    "# Dictionary for defining characters into numeric labels as machine can work on numeric data\n",
    "classes = {}\n",
    "\n",
    "# Adding digits to classes with their respective labels\n",
    "for i in range(48, 58):\n",
    "    classes[chr(i)] = i-48\n",
    "    \n",
    "# Adding Upper Case English Alphabets to classes with their respective labels\n",
    "for i in range(65, 91):\n",
    "    classes[chr(i)] = i-55\n",
    "\n",
    "# Adding Lower Case English Alphabets to classes with their respective labels\n",
    "for i in range(97, 123):\n",
    "    classes[chr(i)] = i-61\n",
    "\n",
    "# Printing all labels with their respective character\n",
    "print(classes)"
   ]
  },
  {
   "cell_type": "code",
   "execution_count": 3,
   "id": "c161fabe",
   "metadata": {},
   "outputs": [],
   "source": [
    "# Importing os library for storing accessing directory of dataset images\n",
    "import os\n",
    "\n",
    "# Image dataset folder path\n",
    "path = 'C:/Users/chaud/jupyter files/Characters'\n",
    "\n",
    "# Storing dataset images name in images list\n",
    "characters = os.listdir(path)"
   ]
  },
  {
   "cell_type": "code",
   "execution_count": 5,
   "id": "9b78a3a7",
   "metadata": {},
   "outputs": [
    {
     "name": "stdout",
     "output_type": "stream",
     "text": [
      "Collecting opencv-python\n",
      "  Using cached opencv_python-4.6.0.66-cp36-abi3-win_amd64.whl (35.6 MB)\n",
      "Requirement already satisfied: numpy>=1.19.3 in c:\\users\\chaud\\anaconda3\\lib\\site-packages (from opencv-python) (1.21.5)\n",
      "Installing collected packages: opencv-python\n",
      "Successfully installed opencv-python-4.6.0.66\n"
     ]
    }
   ],
   "source": [
    "!pip install opencv-python"
   ]
  },
  {
   "cell_type": "code",
   "execution_count": 6,
   "id": "03ddc091",
   "metadata": {},
   "outputs": [],
   "source": [
    "# Importing cv2 for reading pixel values of images\n",
    "import cv2\n",
    "\n",
    "#Defining lists for storing\n",
    "\n",
    "# list CH for storing array of character image pixel values\n",
    "CH = []\n",
    "# list LABEL for storing target label for their corresponding image values\n",
    "LABEL = []\n",
    "\n",
    "# Loop for every image in images list\n",
    "for file in characters:\n",
    "    images = os.listdir(path+'/'+file+'/')\n",
    "    for img in images:\n",
    "        # Adding array of image pixel values after resizing resolution as height 32 * width 32\n",
    "        CH.append(cv2.resize(cv2.imread(path+'/'+file+'/'+img, 0), (32, 32)))\n",
    "        # Adding respective label for images\n",
    "        LABEL.append(classes[chr(int(file))])"
   ]
  },
  {
   "cell_type": "markdown",
   "id": "cf35b54d",
   "metadata": {},
   "source": [
    "Dataset CREATED!"
   ]
  },
  {
   "cell_type": "code",
   "execution_count": 7,
   "id": "707184dc",
   "metadata": {},
   "outputs": [],
   "source": [
    "# Checking no. of images for every character\n",
    "charImages = pd.Series(LABEL).value_counts()"
   ]
  },
  {
   "cell_type": "code",
   "execution_count": 8,
   "id": "57635ab6",
   "metadata": {},
   "outputs": [
    {
     "name": "stdout",
     "output_type": "stream",
     "text": [
      "40    9892\n",
      "28    8660\n",
      "47    8411\n",
      "55    7221\n",
      "1     6008\n",
      "      ... \n",
      "16     393\n",
      "41     392\n",
      "60     390\n",
      "51     371\n",
      "45     347\n",
      "Length: 62, dtype: int64\n"
     ]
    }
   ],
   "source": [
    "print(charImages)"
   ]
  },
  {
   "cell_type": "code",
   "execution_count": 9,
   "id": "85a8c402",
   "metadata": {},
   "outputs": [],
   "source": [
    "#LABELDATA = pd.DataFrame(LABEL).replace([0,1,2,3,4,5,6,7,8,9,10,11,12,13,14,15,16,17,18,19,20,21,22,23,24,25,26,27,28,29,30,31,32,33,34,35,36,37,38,39,40,41,42,43,44,45,46,47,48,49,50,51,52,53,54,55,56,57,58,59,60,61],['0','1','2','3','4','5','6','7','8','9','A','B','C','D','E','F','G','H','I','J','K','L','M','N','O','P','Q','R','S','T','U','V','W','X','Y','Z','a','b','c','d','e','f','g','h','i','j','k','l','m','n','o','p','q','r','s','t','u','v','w','x','y','z'])"
   ]
  },
  {
   "cell_type": "code",
   "execution_count": 10,
   "id": "320cdb00",
   "metadata": {},
   "outputs": [
    {
     "data": {
      "text/plain": [
       "\"import seaborn as sns\\nplt.figure(figsize=(30,10))\\nplt.xlabel('Characters')\\nplt.ylabel('Number of Sample Images')\\nplt.plot(LABELDATA[0].value_counts(), kind='bar')\\nfig, ax = plt.subplots()\\nplt.show\""
      ]
     },
     "execution_count": 10,
     "metadata": {},
     "output_type": "execute_result"
    }
   ],
   "source": [
    "# Print graph for no. of images of every character\n",
    "'''import seaborn as sns\n",
    "plt.figure(figsize=(30,10))\n",
    "plt.xlabel('Characters')\n",
    "plt.ylabel('Number of Sample Images')\n",
    "plt.plot(LABELDATA[0].value_counts(), kind='bar')\n",
    "fig, ax = plt.subplots()\n",
    "plt.show'''"
   ]
  },
  {
   "cell_type": "code",
   "execution_count": 11,
   "id": "d9cab8a1",
   "metadata": {},
   "outputs": [
    {
     "data": {
      "text/plain": [
       "(32, 32)"
      ]
     },
     "execution_count": 11,
     "metadata": {},
     "output_type": "execute_result"
    }
   ],
   "source": [
    "# Checking size of character images\n",
    "CH[0].shape"
   ]
  },
  {
   "cell_type": "markdown",
   "id": "7f88346a",
   "metadata": {},
   "source": [
    "We have images of size 32*32 pixels"
   ]
  },
  {
   "cell_type": "code",
   "execution_count": 12,
   "id": "a729b85c",
   "metadata": {},
   "outputs": [],
   "source": [
    "# Converting python lists to numpy arrays for better usage\n",
    "CH = np.array(CH)\n",
    "ORIGINAL = CH\n",
    "LABEL = np.array(LABEL)"
   ]
  },
  {
   "cell_type": "markdown",
   "id": "d4b3dac8",
   "metadata": {},
   "source": [
    "Lets check a sample with its label."
   ]
  },
  {
   "cell_type": "code",
   "execution_count": 13,
   "id": "418d2870",
   "metadata": {},
   "outputs": [
    {
     "name": "stdout",
     "output_type": "stream",
     "text": [
      "Label :  39\n"
     ]
    },
    {
     "data": {
      "image/png": "[encoded data removed]",
      "text/plain": [
       "<Figure size 640x480 with 1 Axes>"
      ]
     },
     "metadata": {},
     "output_type": "display_data"
    }
   ],
   "source": [
    "plt.imshow(CH[111], cmap='gray')\n",
    "print('Label : ', LABEL[111])"
   ]
  },
  {
   "cell_type": "markdown",
   "id": "77f8dae9",
   "metadata": {},
   "source": [
    "## Preparing Data"
   ]
  },
  {
   "cell_type": "code",
   "execution_count": 14,
   "id": "ec470ae2",
   "metadata": {},
   "outputs": [
    {
     "name": "stdout",
     "output_type": "stream",
     "text": [
      "Shape of CH array :  (163014, 32, 32)\n"
     ]
    }
   ],
   "source": [
    "# Checking shape of CH array\n",
    "print('Shape of CH array : ', CH.shape)"
   ]
  },
  {
   "cell_type": "markdown",
   "id": "c34ef804",
   "metadata": {},
   "source": [
    "Size of our character array is 3-dimensional.\n",
    "But ML models work on two-dimensional data.\n",
    "So lets reduce array size to 2-dimensional."
   ]
  },
  {
   "cell_type": "code",
   "execution_count": 15,
   "id": "6cba252e",
   "metadata": {},
   "outputs": [],
   "source": [
    "# Converting 3D array to 2D array\n",
    "CH = CH.reshape(len(CH),-1)"
   ]
  },
  {
   "cell_type": "code",
   "execution_count": 16,
   "id": "6636e621",
   "metadata": {},
   "outputs": [
    {
     "name": "stdout",
     "output_type": "stream",
     "text": [
      "Shape of CH array :  (163014, 1024)\n"
     ]
    }
   ],
   "source": [
    "# Again checking shape of CH array\n",
    "print('Shape of CH array : ', CH.shape)"
   ]
  },
  {
   "cell_type": "markdown",
   "id": "610fb5df",
   "metadata": {},
   "source": [
    "Now it is 2D."
   ]
  },
  {
   "cell_type": "markdown",
   "id": "b85b23ac",
   "metadata": {},
   "source": [
    "## Splitting data into training and testing"
   ]
  },
  {
   "cell_type": "code",
   "execution_count": 17,
   "id": "1ebc750d",
   "metadata": {},
   "outputs": [],
   "source": [
    "chtrain, chtest, labeltrain, labeltest = train_test_split(CH, LABEL, test_size = 0.3, random_state = 10)"
   ]
  },
  {
   "cell_type": "code",
   "execution_count": 18,
   "id": "7fa8fdba",
   "metadata": {},
   "outputs": [
    {
     "name": "stdout",
     "output_type": "stream",
     "text": [
      "Training Data Shape :  \n",
      "\tCharacter Array Shape :  (114109, 1024) \n",
      "\tLabel Array Shape :\t (114109,)\n",
      "\n",
      "Testing Data Shape :  \n",
      "\tCharacter Array Shape :  (48905, 1024) \n",
      "\tLabel Array Shape :\t (48905,)\n"
     ]
    }
   ],
   "source": [
    "# SHAPE OF TRAINING AND TESTING DATA\n",
    "print('Training Data Shape : ', '\\n\\tCharacter Array Shape : ', chtrain.shape, '\\n\\tLabel Array Shape :\\t', labeltrain.shape)\n",
    "print()\n",
    "print('Testing Data Shape : ', '\\n\\tCharacter Array Shape : ', chtest.shape, '\\n\\tLabel Array Shape :\\t', labeltest.shape)"
   ]
  },
  {
   "cell_type": "markdown",
   "id": "7ffba470",
   "metadata": {},
   "source": [
    "## Feature Scaling"
   ]
  },
  {
   "cell_type": "code",
   "execution_count": 19,
   "id": "63c90768",
   "metadata": {},
   "outputs": [
    {
     "name": "stdout",
     "output_type": "stream",
     "text": [
      "255\n"
     ]
    }
   ],
   "source": [
    "# Finding maximum value in character data\n",
    "print(chtrain.max())"
   ]
  },
  {
   "cell_type": "code",
   "execution_count": 20,
   "id": "a4ae2547",
   "metadata": {},
   "outputs": [],
   "source": [
    "# Scaling data according to maximum value\n",
    "chtrain = chtrain/255\n",
    "chtest = chtest/255"
   ]
  },
  {
   "cell_type": "code",
   "execution_count": 21,
   "id": "32fb9cdf",
   "metadata": {},
   "outputs": [
    {
     "name": "stdout",
     "output_type": "stream",
     "text": [
      "1.0\n"
     ]
    }
   ],
   "source": [
    "# Now checking maximum value\n",
    "print(chtrain.max())"
   ]
  },
  {
   "cell_type": "markdown",
   "id": "87410048",
   "metadata": {},
   "source": [
    "As we can see, image pixel values have reduced to maximum value 1. Since values are divided therefore values have converted to float."
   ]
  },
  {
   "cell_type": "markdown",
   "id": "4f4aacad",
   "metadata": {},
   "source": [
    "## Feature Selection using PCA (Principal Component Analysis)"
   ]
  },
  {
   "cell_type": "code",
   "execution_count": 22,
   "id": "1348dd34",
   "metadata": {},
   "outputs": [],
   "source": [
    "# Importing PCA from sci-kit learn library\n",
    "from sklearn.decomposition import PCA"
   ]
  },
  {
   "cell_type": "code",
   "execution_count": 23,
   "id": "421fc6c8",
   "metadata": {},
   "outputs": [
    {
     "name": "stdout",
     "output_type": "stream",
     "text": [
      "Image Training Data Shape :\t (114109, 1024)\n",
      "Image Testing Data Shape :\t (48905, 1024)\n"
     ]
    }
   ],
   "source": [
    "# Shape of image data before applying PCA\n",
    "print('Image Training Data Shape :\\t', chtrain.shape)\n",
    "print('Image Testing Data Shape :\\t', chtest.shape)"
   ]
  },
  {
   "cell_type": "code",
   "execution_count": 24,
   "id": "e86a4450",
   "metadata": {},
   "outputs": [],
   "source": [
    "# Defining PCA for 96% details\n",
    "pca = PCA(0.96)\n",
    "\n",
    "# Transforming data according to PCA\n",
    "# fit_transform for learning parameters from training data and transforming training data accordingly\n",
    "# combination of fit() and transform()\n",
    "chtrain = pca.fit_transform(chtrain)\n",
    "# transforming testing data according to parameters learned from training data\n",
    "chtest = pca.transform(chtest)"
   ]
  },
  {
   "cell_type": "code",
   "execution_count": 25,
   "id": "cd15a86b",
   "metadata": {},
   "outputs": [
    {
     "name": "stdout",
     "output_type": "stream",
     "text": [
      "PCA Components : 0.96\n",
      "PCA Features :\t 1024\n"
     ]
    }
   ],
   "source": [
    "# Lets check pca components and features\n",
    "print('PCA Components :', pca.n_components)\n",
    "print('PCA Features :\\t', pca.n_features_)"
   ]
  },
  {
   "cell_type": "code",
   "execution_count": 26,
   "id": "8f4dd31d",
   "metadata": {},
   "outputs": [
    {
     "name": "stdout",
     "output_type": "stream",
     "text": [
      "Image Training Data Shape :\t (114109, 157)\n",
      "Image Testing Data Shape :\t (48905, 157)\n"
     ]
    }
   ],
   "source": [
    "# Shape of image data after applying PCA\n",
    "print('Image Training Data Shape :\\t', chtrain.shape)\n",
    "print('Image Testing Data Shape :\\t', chtest.shape)"
   ]
  },
  {
   "cell_type": "markdown",
   "id": "3223a3a7",
   "metadata": {},
   "source": [
    "## Decoding Class"
   ]
  },
  {
   "cell_type": "code",
   "execution_count": 27,
   "id": "b74e95cb",
   "metadata": {
    "scrolled": true
   },
   "outputs": [
    {
     "name": "stdout",
     "output_type": "stream",
     "text": [
      "{0: '0', 1: '1', 2: '2', 3: '3', 4: '4', 5: '5', 6: '6', 7: '7', 8: '8', 9: '9', 10: 'A', 11: 'B', 12: 'C', 13: 'D', 14: 'E', 15: 'F', 16: 'G', 17: 'H', 18: 'I', 19: 'J', 20: 'K', 21: 'L', 22: 'M', 23: 'N', 24: 'O', 25: 'P', 26: 'Q', 27: 'R', 28: 'S', 29: 'T', 30: 'U', 31: 'V', 32: 'W', 33: 'X', 34: 'Y', 35: 'Z', 36: 'a', 37: 'b', 38: 'c', 39: 'd', 40: 'e', 41: 'f', 42: 'g', 43: 'h', 44: 'i', 45: 'j', 46: 'k', 47: 'l', 48: 'm', 49: 'n', 50: 'o', 51: 'p', 52: 'q', 53: 'r', 54: 's', 55: 't', 56: 'u', 57: 'v', 58: 'w', 59: 'x', 60: 'y', 61: 'z'}\n"
     ]
    }
   ],
   "source": [
    "# Dictionary for defining characters into numeric labels as machine can work on numeric data\n",
    "decode = {}\n",
    "\n",
    "# Adding digits to classes with their respective labels\n",
    "for i in range(48, 58):\n",
    "    decode[i-48] = chr(i)\n",
    "    \n",
    "# Adding Upper Case English Alphabets to classes with their respective labels\n",
    "for i in range(65, 91):\n",
    "    decode[i-55] = chr(i)\n",
    "\n",
    "# Adding Lower Case English Alphabets to classes with their respective labels\n",
    "for i in range(97, 123):\n",
    "    decode[i-61] = chr(i)\n",
    "\n",
    "# Printing all labels with their respective character\n",
    "print(decode)"
   ]
  },
  {
   "cell_type": "markdown",
   "id": "51a40408",
   "metadata": {},
   "source": [
    "## Copying and Merging training and testing data for calculating overall accuracy"
   ]
  },
  {
   "cell_type": "code",
   "execution_count": 28,
   "id": "41a35d61",
   "metadata": {},
   "outputs": [],
   "source": [
    "chardata = np.concatenate((chtrain, chtest))\n",
    "labeldata = np.concatenate((labeltrain, labeltest))"
   ]
  },
  {
   "cell_type": "markdown",
   "id": "2ecf9599",
   "metadata": {},
   "source": [
    "# APPLYING MODELS"
   ]
  },
  {
   "cell_type": "markdown",
   "id": "9dab3f69",
   "metadata": {},
   "source": [
    "## 1. Logistic Regression"
   ]
  },
  {
   "cell_type": "code",
   "execution_count": 32,
   "id": "7dbe758e",
   "metadata": {},
   "outputs": [],
   "source": [
    "# Importing Logistic Regression Model\n",
    "from sklearn.linear_model import LogisticRegression"
   ]
  },
  {
   "cell_type": "markdown",
   "id": "90a2efe5",
   "metadata": {},
   "source": [
    "### i. Fitting Model"
   ]
  },
  {
   "cell_type": "code",
   "execution_count": 33,
   "id": "12dbad52",
   "metadata": {},
   "outputs": [
    {
     "data": {
      "text/plain": [
       "LogisticRegression(max_iter=5000, solver='saga')"
      ]
     },
     "execution_count": 33,
     "metadata": {},
     "output_type": "execute_result"
    }
   ],
   "source": [
    "# Creating an object of model\n",
    "log_model = LogisticRegression(solver='saga', max_iter=5000)\n",
    "\n",
    "# Fitting model on training data\n",
    "log_model.fit(chtrain, labeltrain)"
   ]
  },
  {
   "cell_type": "markdown",
   "id": "1432ea4c",
   "metadata": {},
   "source": [
    "### ii. Predicting data"
   ]
  },
  {
   "cell_type": "code",
   "execution_count": 34,
   "id": "683a263e",
   "metadata": {},
   "outputs": [],
   "source": [
    "# Predicting training data\n",
    "labeltrain_pred = log_model.predict(chtrain)\n",
    "\n",
    "# Predicting testing data\n",
    "labeltest_pred = log_model.predict(chtest)"
   ]
  },
  {
   "cell_type": "markdown",
   "id": "c4185093",
   "metadata": {},
   "source": [
    "### iii. Evaluation"
   ]
  },
  {
   "cell_type": "code",
   "execution_count": 35,
   "id": "5f6f1a77",
   "metadata": {},
   "outputs": [
    {
     "name": "stdout",
     "output_type": "stream",
     "text": [
      "Training Accuracy =\t 0.6849941722388243\n",
      "Testing Accuracy =\t 0.6728146406297925\n"
     ]
    }
   ],
   "source": [
    "# Evaluating Training Accuracy\n",
    "print('Training Accuracy =\\t', accuracy_score(labeltrain, labeltrain_pred))\n",
    "\n",
    "# Evaluating Testing Accuracy\n",
    "print('Testing Accuracy =\\t', accuracy_score(labeltest, labeltest_pred))"
   ]
  },
  {
   "cell_type": "markdown",
   "id": "6a5d463c",
   "metadata": {},
   "source": [
    "## 2. Random Forest"
   ]
  },
  {
   "cell_type": "code",
   "execution_count": 36,
   "id": "a801df93",
   "metadata": {},
   "outputs": [],
   "source": [
    "# Importing Random Forest Model\n",
    "from sklearn.ensemble import RandomForestClassifier"
   ]
  },
  {
   "cell_type": "markdown",
   "id": "3785d60c",
   "metadata": {},
   "source": [
    "### i. Fitting Model"
   ]
  },
  {
   "cell_type": "code",
   "execution_count": 37,
   "id": "ded5c88a",
   "metadata": {},
   "outputs": [
    {
     "data": {
      "text/plain": [
       "RandomForestClassifier(n_estimators=80, random_state=42)"
      ]
     },
     "execution_count": 37,
     "metadata": {},
     "output_type": "execute_result"
    }
   ],
   "source": [
    "random_forest = RandomForestClassifier(n_estimators=80, random_state=42)\n",
    "random_forest.fit(chtrain, labeltrain)"
   ]
  },
  {
   "cell_type": "markdown",
   "id": "e51d5df4",
   "metadata": {},
   "source": [
    "### ii. Predicting data"
   ]
  },
  {
   "cell_type": "code",
   "execution_count": 38,
   "id": "af9d0deb",
   "metadata": {},
   "outputs": [],
   "source": [
    "# Predicting training data\n",
    "labeltrainpred = random_forest.predict(chtrain)\n",
    "\n",
    "# Predicting testing data\n",
    "labeltestpred = random_forest.predict(chtest)"
   ]
  },
  {
   "cell_type": "markdown",
   "id": "08c37a75",
   "metadata": {},
   "source": [
    "### iii. Evaluation"
   ]
  },
  {
   "cell_type": "code",
   "execution_count": 39,
   "id": "00c2fa4d",
   "metadata": {},
   "outputs": [
    {
     "name": "stdout",
     "output_type": "stream",
     "text": [
      "Random Forest Training Accuracy Score:\t 0.9956883330850327\n",
      "Random Forest Testing Accuracy Score:\t 0.7176566813209283\n"
     ]
    }
   ],
   "source": [
    "# Evaluating Training Accuracy\n",
    "print('Random Forest Training Accuracy Score:\\t',random_forest.score(chtrain, labeltrain))\n",
    "\n",
    "# Evaluating Testing Accuracy\n",
    "print('Random Forest Testing Accuracy Score:\\t',random_forest.score(chtest, labeltest))"
   ]
  },
  {
   "cell_type": "markdown",
   "id": "b38aa68b",
   "metadata": {},
   "source": [
    "# MODELS COMPARISON"
   ]
  },
  {
   "cell_type": "code",
   "execution_count": 40,
   "id": "7c48f1e3",
   "metadata": {},
   "outputs": [
    {
     "name": "stdout",
     "output_type": "stream",
     "text": [
      "Logistic Regression Overall Accuracy =\t 0.6813402529844063\n",
      "Random Forest Overall Accuracy =\t 0.9122774731004699\n"
     ]
    }
   ],
   "source": [
    "# Evaluating Logistic Regression Accuracy\n",
    "print('Logistic Regression Overall Accuracy =\\t', log_model.score(chardata, labeldata))\n",
    "\n",
    "# Evaluating Random Forest Accuracy\n",
    "print('Random Forest Overall Accuracy =\\t', random_forest.score(chardata, labeldata))"
   ]
  },
  {
   "cell_type": "markdown",
   "id": "7ffb6902",
   "metadata": {},
   "source": [
    "Here, we can clearly see that RANDOM FOREST is far BETTER than LOGISTIC REGRESSION.\n",
    "Because we have 62 classes which can be better handled using RANDOM FOREST."
   ]
  },
  {
   "cell_type": "markdown",
   "id": "d111084c",
   "metadata": {},
   "source": [
    "# PREDICT LABEL OF TEST IMAGES USING MODEL"
   ]
  },
  {
   "cell_type": "code",
   "execution_count": 41,
   "id": "8bd8bf90",
   "metadata": {},
   "outputs": [],
   "source": [
    "plt.rcParams['figure.figsize'] = [2, 2]"
   ]
  },
  {
   "cell_type": "code",
   "execution_count": 43,
   "id": "e12a3817",
   "metadata": {},
   "outputs": [
    {
     "data": {
      "text/plain": [
       "['hsf_0_00004.png',\n",
       " 'hsf_0_00009.png',\n",
       " 'hsf_0_00010.png',\n",
       " 'hsf_0_00017.png',\n",
       " 'hsf_0_00018.png',\n",
       " 'hsf_0_00020.png',\n",
       " 'hsf_0_00021.png',\n",
       " 'hsf_0_00023.png',\n",
       " 'hsf_0_00043.png',\n",
       " 'hsf_0_00094.png']"
      ]
     },
     "execution_count": 43,
     "metadata": {},
     "output_type": "execute_result"
    }
   ],
   "source": [
    "os.listdir(r'C:\\Users\\chaud\\jupyter files\\Test')"
   ]
  },
  {
   "cell_type": "code",
   "execution_count": 47,
   "id": "fac05edf",
   "metadata": {},
   "outputs": [
    {
     "data": {
      "text/plain": [
       "<matplotlib.image.AxesImage at 0x26014b63fd0>"
      ]
     },
     "execution_count": 47,
     "metadata": {},
     "output_type": "execute_result"
    },
    {
     "data": {
      "image/png": "[encoded data removed]",
      "text/plain": [
       "<Figure size 200x200 with 1 Axes>"
      ]
     },
     "metadata": {},
     "output_type": "display_data"
    }
   ],
   "source": [
    "testimage = cv2.resize(cv2.imread(r'C:\\Users\\chaud\\jupyter files\\Test/hsf_0_00004.png', 0), (32, 32))\n",
    "testSample = pca.transform([(testimage/255).flatten()])\n",
    "plt.title('Predicted : '+decode[int(random_forest.predict(testSample))]+'\\nActual : N')\n",
    "plt.imshow(testimage, cmap='gray')"
   ]
  },
  {
   "cell_type": "code",
   "execution_count": 49,
   "id": "a3b45be2",
   "metadata": {},
   "outputs": [
    {
     "data": {
      "text/plain": [
       "<matplotlib.image.AxesImage at 0x26014bbc370>"
      ]
     },
     "execution_count": 49,
     "metadata": {},
     "output_type": "execute_result"
    },
    {
     "data": {
      "image/png": "[encoded data removed]",
      "text/plain": [
       "<Figure size 200x200 with 1 Axes>"
      ]
     },
     "metadata": {},
     "output_type": "display_data"
    }
   ],
   "source": [
    "testimage = cv2.resize(cv2.imread(r'C:\\Users\\chaud\\jupyter files\\Test/hsf_0_00009.png', 0), (32, 32))\n",
    "testSample = pca.transform([(testimage/255).flatten()])\n",
    "plt.title('Predicted : '+decode[int(random_forest.predict(testSample))]+'\\nActual : Q')\n",
    "plt.imshow(testimage, cmap='gray')"
   ]
  },
  {
   "cell_type": "code",
   "execution_count": 51,
   "id": "b448f31b",
   "metadata": {},
   "outputs": [
    {
     "data": {
      "text/plain": [
       "<matplotlib.image.AxesImage at 0x26014b14430>"
      ]
     },
     "execution_count": 51,
     "metadata": {},
     "output_type": "execute_result"
    },
    {
     "data": {
      "image/png": "[encoded data removed]",
      "text/plain": [
       "<Figure size 200x200 with 1 Axes>"
      ]
     },
     "metadata": {},
     "output_type": "display_data"
    }
   ],
   "source": [
    "testimage = cv2.resize(cv2.imread(r'C:\\Users\\chaud\\jupyter files\\Test/hsf_0_00010.png', 0), (32, 32))\n",
    "testSample = pca.transform([(testimage/255).flatten()])\n",
    "plt.title('Predicted : '+decode[int(random_forest.predict(testSample))]+'\\nActual : F')\n",
    "plt.imshow(testimage, cmap='gray')"
   ]
  },
  {
   "cell_type": "code",
   "execution_count": 53,
   "id": "242cf3b3",
   "metadata": {},
   "outputs": [
    {
     "data": {
      "text/plain": [
       "<matplotlib.image.AxesImage at 0x26014caf610>"
      ]
     },
     "execution_count": 53,
     "metadata": {},
     "output_type": "execute_result"
    },
    {
     "data": {
      "image/png": "[encoded data removed]",
      "text/plain": [
       "<Figure size 200x200 with 1 Axes>"
      ]
     },
     "metadata": {},
     "output_type": "display_data"
    }
   ],
   "source": [
    "testimage = cv2.resize(cv2.imread(r'C:\\Users\\chaud\\jupyter files\\Test/hsf_0_00017.png', 0), (32, 32))\n",
    "testSample = pca.transform([(testimage/255).flatten()])\n",
    "plt.title('Predicted : '+decode[int(random_forest.predict(testSample))]+'\\nActual : r')\n",
    "plt.imshow(testimage, cmap='gray')"
   ]
  },
  {
   "cell_type": "code",
   "execution_count": 55,
   "id": "fd5ab049",
   "metadata": {},
   "outputs": [
    {
     "data": {
      "text/plain": [
       "<matplotlib.image.AxesImage at 0x260151becd0>"
      ]
     },
     "execution_count": 55,
     "metadata": {},
     "output_type": "execute_result"
    },
    {
     "data": {
      "image/png": "[encoded data removed]",
      "text/plain": [
       "<Figure size 200x200 with 1 Axes>"
      ]
     },
     "metadata": {},
     "output_type": "display_data"
    }
   ],
   "source": [
    "testimage = cv2.resize(cv2.imread(r'C:\\Users\\chaud\\jupyter files\\Test/hsf_0_00018.png', 0), (32, 32))\n",
    "testSample = pca.transform([(testimage/255).flatten()])\n",
    "plt.title('Predicted : '+decode[int(random_forest.predict(testSample))]+'\\nActual : R')\n",
    "plt.imshow(testimage, cmap='gray')"
   ]
  },
  {
   "cell_type": "code",
   "execution_count": 57,
   "id": "dd9640be",
   "metadata": {},
   "outputs": [
    {
     "data": {
      "text/plain": [
       "<matplotlib.image.AxesImage at 0x260151fbf70>"
      ]
     },
     "execution_count": 57,
     "metadata": {},
     "output_type": "execute_result"
    },
    {
     "data": {
      "image/png": "[encoded data removed]",
      "text/plain": [
       "<Figure size 200x200 with 1 Axes>"
      ]
     },
     "metadata": {},
     "output_type": "display_data"
    }
   ],
   "source": [
    "testimage = cv2.resize(cv2.imread(r'C:\\Users\\chaud\\jupyter files\\Test/hsf_0_00020.png', 0), (32, 32))\n",
    "testSample = pca.transform([(testimage/255).flatten()])\n",
    "plt.title('Predicted : '+decode[int(random_forest.predict(testSample))]+'\\nActual : p')\n",
    "plt.imshow(testimage, cmap='gray')"
   ]
  },
  {
   "cell_type": "code",
   "execution_count": 59,
   "id": "6358a793",
   "metadata": {},
   "outputs": [
    {
     "data": {
      "text/plain": [
       "<matplotlib.image.AxesImage at 0x2601521c130>"
      ]
     },
     "execution_count": 59,
     "metadata": {},
     "output_type": "execute_result"
    },
    {
     "data": {
      "image/png": "[encoded data removed]",
      "text/plain": [
       "<Figure size 200x200 with 1 Axes>"
      ]
     },
     "metadata": {},
     "output_type": "display_data"
    }
   ],
   "source": [
    "testimage = cv2.resize(cv2.imread(r'C:\\Users\\chaud\\jupyter files\\Test/hsf_0_00021.png', 0), (32, 32))\n",
    "testSample = pca.transform([(testimage/255).flatten()])\n",
    "plt.title('Predicted : '+decode[int(random_forest.predict(testSample))]+'\\nActual : U')\n",
    "plt.imshow(testimage, cmap='gray')"
   ]
  },
  {
   "cell_type": "code",
   "execution_count": 61,
   "id": "7a78143b",
   "metadata": {},
   "outputs": [
    {
     "data": {
      "text/plain": [
       "<matplotlib.image.AxesImage at 0x260167cba90>"
      ]
     },
     "execution_count": 61,
     "metadata": {},
     "output_type": "execute_result"
    },
    {
     "data": {
      "image/png": "[encoded data removed]",
      "text/plain": [
       "<Figure size 200x200 with 1 Axes>"
      ]
     },
     "metadata": {},
     "output_type": "display_data"
    }
   ],
   "source": [
    "testimage = cv2.resize(cv2.imread(r'C:\\Users\\chaud\\jupyter files\\Test/hsf_0_00023.png', 0), (32, 32))\n",
    "testSample = pca.transform([(testimage/255).flatten()])\n",
    "plt.title('Predicted : '+decode[int(random_forest.predict(testSample))]+'\\nActual : T')\n",
    "plt.imshow(testimage, cmap='gray')"
   ]
  },
  {
   "cell_type": "code",
   "execution_count": 63,
   "id": "7ecdcc08",
   "metadata": {},
   "outputs": [
    {
     "data": {
      "text/plain": [
       "<matplotlib.image.AxesImage at 0x26018bc4370>"
      ]
     },
     "execution_count": 63,
     "metadata": {},
     "output_type": "execute_result"
    },
    {
     "data": {
      "image/png": "[encoded data removed]",
      "text/plain": [
       "<Figure size 200x200 with 1 Axes>"
      ]
     },
     "metadata": {},
     "output_type": "display_data"
    }
   ],
   "source": [
    "testimage = cv2.resize(cv2.imread(r'C:\\Users\\chaud\\jupyter files\\Test/hsf_0_00043.png', 0), (32, 32))\n",
    "testSample = pca.transform([(testimage/255).flatten()])\n",
    "plt.title('Predicted : '+decode[int(random_forest.predict(testSample))]+'\\nActual : 9')\n",
    "plt.imshow(testimage, cmap='gray')"
   ]
  },
  {
   "cell_type": "code",
   "execution_count": 64,
   "id": "ac3d350c",
   "metadata": {},
   "outputs": [
    {
     "data": {
      "text/plain": [
       "<matplotlib.image.AxesImage at 0x26018b97790>"
      ]
     },
     "execution_count": 64,
     "metadata": {},
     "output_type": "execute_result"
    },
    {
     "data": {
      "image/png": "[encoded data removed]",
      "text/plain": [
       "<Figure size 200x200 with 1 Axes>"
      ]
     },
     "metadata": {},
     "output_type": "display_data"
    }
   ],
   "source": [
    "testimage = cv2.resize(cv2.imread(r'C:\\Users\\chaud\\jupyter files/Test/img008-048.png', 0), (32, 32))\n",
    "testSample = pca.transform([(testimage/255).flatten()])\n",
    "plt.title('Predicted : '+decode[int(random_forest.predict(testSample))]+'\\nActual : 7')\n",
    "plt.imshow(testimage, cmap='gray')"
   ]
  },
  {
   "cell_type": "code",
   "execution_count": 66,
   "id": "04ededf5",
   "metadata": {},
   "outputs": [
    {
     "data": {
      "text/plain": [
       "<matplotlib.image.AxesImage at 0x26018bc8130>"
      ]
     },
     "execution_count": 66,
     "metadata": {},
     "output_type": "execute_result"
    },
    {
     "data": {
      "image/png": "[encoded data removed]",
      "text/plain": [
       "<Figure size 200x200 with 1 Axes>"
      ]
     },
     "metadata": {},
     "output_type": "display_data"
    }
   ],
   "source": [
    "testimage = cv2.resize(cv2.imread(r'C:\\Users\\chaud\\jupyter files/Test/img014-012.png', 0), (32, 32))\n",
    "testSample = pca.transform([(testimage/255).flatten()])\n",
    "plt.title('Predicted : '+decode[int(random_forest.predict(testSample))]+'\\nActual : D')\n",
    "plt.imshow(testimage, cmap='gray')"
   ]
  },
  {
   "cell_type": "code",
   "execution_count": 67,
   "id": "9525c667",
   "metadata": {},
   "outputs": [
    {
     "data": {
      "text/plain": [
       "<matplotlib.image.AxesImage at 0x26026f0f2e0>"
      ]
     },
     "execution_count": 67,
     "metadata": {},
     "output_type": "execute_result"
    },
    {
     "data": {
      "image/png": "[encoded data removed]",
      "text/plain": [
       "<Figure size 200x200 with 1 Axes>"
      ]
     },
     "metadata": {},
     "output_type": "display_data"
    }
   ],
   "source": [
    "testimage = cv2.resize(cv2.imread(r'C:\\Users\\chaud\\jupyter files/Test/img015-017.png', 0), (32, 32))\n",
    "testSample = pca.transform([(testimage/255).flatten()])\n",
    "plt.title('Predicted : '+decode[int(random_forest.predict(testSample))]+'\\nActual : E')\n",
    "plt.imshow(testimage, cmap='gray')"
   ]
  },
  {
   "cell_type": "code",
   "execution_count": 68,
   "id": "62e56c81",
   "metadata": {},
   "outputs": [
    {
     "data": {
      "text/plain": [
       "<matplotlib.image.AxesImage at 0x26026f0f520>"
      ]
     },
     "execution_count": 68,
     "metadata": {},
     "output_type": "execute_result"
    },
    {
     "data": {
      "image/png": "[encoded data removed]",
      "text/plain": [
       "<Figure size 200x200 with 1 Axes>"
      ]
     },
     "metadata": {},
     "output_type": "display_data"
    }
   ],
   "source": [
    "testimage = cv2.resize(cv2.imread(r'C:\\Users\\chaud\\jupyter files/Test/img016-049.png', 0), (32, 32))\n",
    "testSample = pca.transform([(testimage/255).flatten()])\n",
    "plt.title('Predicted : '+decode[int(random_forest.predict(testSample))]+'\\nActual : F')\n",
    "plt.imshow(testimage, cmap='gray')"
   ]
  },
  {
   "cell_type": "code",
   "execution_count": 70,
   "id": "64234766",
   "metadata": {},
   "outputs": [
    {
     "data": {
      "text/plain": [
       "<matplotlib.image.AxesImage at 0x26018cc1700>"
      ]
     },
     "execution_count": 70,
     "metadata": {},
     "output_type": "execute_result"
    },
    {
     "data": {
      "image/png": "[encoded data removed]",
      "text/plain": [
       "<Figure size 200x200 with 1 Axes>"
      ]
     },
     "metadata": {},
     "output_type": "display_data"
    }
   ],
   "source": [
    "testimage = cv2.resize(cv2.imread(r'C:\\Users\\chaud\\jupyter files/Test/img019-005.png', 0), (32, 32))\n",
    "testSample = pca.transform([(testimage/255).flatten()])\n",
    "plt.title('Predicted : '+decode[int(random_forest.predict(testSample))]+'\\nActual : I')\n",
    "plt.imshow(testimage, cmap='gray')"
   ]
  },
  {
   "cell_type": "code",
   "execution_count": 71,
   "id": "1d187f7a",
   "metadata": {},
   "outputs": [
    {
     "data": {
      "text/plain": [
       "<matplotlib.image.AxesImage at 0x26026f69040>"
      ]
     },
     "execution_count": 71,
     "metadata": {},
     "output_type": "execute_result"
    },
    {
     "data": {
      "image/png": "[encoded data removed]",
      "text/plain": [
       "<Figure size 200x200 with 1 Axes>"
      ]
     },
     "metadata": {},
     "output_type": "display_data"
    }
   ],
   "source": [
    "testimage = cv2.resize(cv2.imread(r'C:\\Users\\chaud\\jupyter files/Test/img022-011.png', 0), (32, 32))\n",
    "testSample = pca.transform([(testimage/255).flatten()])\n",
    "plt.title('Predicted : '+decode[int(random_forest.predict(testSample))]+'\\nActual : L')\n",
    "plt.imshow(testimage, cmap='gray')"
   ]
  },
  {
   "cell_type": "code",
   "execution_count": 72,
   "id": "6ac2aa9a",
   "metadata": {},
   "outputs": [
    {
     "data": {
      "text/plain": [
       "<matplotlib.image.AxesImage at 0x260270e4eb0>"
      ]
     },
     "execution_count": 72,
     "metadata": {},
     "output_type": "execute_result"
    },
    {
     "data": {
      "image/png": "[encoded data removed]",
      "text/plain": [
       "<Figure size 200x200 with 1 Axes>"
      ]
     },
     "metadata": {},
     "output_type": "display_data"
    }
   ],
   "source": [
    "testimage = cv2.resize(cv2.imread(r'C:\\Users\\chaud\\jupyter files/Test/img026-038.png', 0), (32, 32))\n",
    "testSample = pca.transform([(testimage/255).flatten()])\n",
    "plt.title('Predicted : '+decode[int(random_forest.predict(testSample))]+'\\nActual : P')\n",
    "plt.imshow(testimage, cmap='gray')"
   ]
  },
  {
   "cell_type": "code",
   "execution_count": 74,
   "id": "ac00cfb0",
   "metadata": {},
   "outputs": [
    {
     "data": {
      "text/plain": [
       "<matplotlib.image.AxesImage at 0x26027157dc0>"
      ]
     },
     "execution_count": 74,
     "metadata": {},
     "output_type": "execute_result"
    },
    {
     "data": {
      "image/png": "[encoded data removed]",
      "text/plain": [
       "<Figure size 200x200 with 1 Axes>"
      ]
     },
     "metadata": {},
     "output_type": "display_data"
    }
   ],
   "source": [
    "testimage = cv2.resize(cv2.imread(r'C:\\Users\\chaud\\jupyter files/Test/img030-031.png', 0), (32, 32))\n",
    "testSample = pca.transform([(testimage/255).flatten()])\n",
    "plt.title('Predicted : '+decode[int(random_forest.predict(testSample))]+'\\nActual : T')\n",
    "plt.imshow(testimage, cmap='gray')"
   ]
  },
  {
   "cell_type": "code",
   "execution_count": 76,
   "id": "a98f8f9f",
   "metadata": {},
   "outputs": [],
   "source": [
    "labeldatapred = random_forest.predict(chardata)"
   ]
  },
  {
   "cell_type": "code",
   "execution_count": 77,
   "id": "bd1f76cd",
   "metadata": {},
   "outputs": [
    {
     "name": "stdout",
     "output_type": "stream",
     "text": [
      "              precision    recall  f1-score   support\n",
      "\n",
      "           0       0.89      0.98      0.93      5534\n",
      "           1       0.92      0.96      0.94      6008\n",
      "           2       0.89      0.96      0.93      5321\n",
      "           3       0.91      0.97      0.94      5592\n",
      "           4       0.88      0.95      0.91      5114\n",
      "           5       0.91      0.93      0.92      4603\n",
      "           6       0.92      0.98      0.95      5236\n",
      "           7       0.93      0.98      0.95      5589\n",
      "           8       0.89      0.95      0.92      5262\n",
      "           9       0.91      0.97      0.94      5190\n",
      "          10       0.93      0.85      0.88      2110\n",
      "          11       0.98      0.74      0.84      1008\n",
      "          12       0.93      0.89      0.91      3959\n",
      "          13       0.98      0.79      0.88      1402\n",
      "          14       0.99      0.80      0.88      1899\n",
      "          15       0.91      0.87      0.89      3355\n",
      "          16       1.00      0.75      0.85       393\n",
      "          17       1.00      0.71      0.83       832\n",
      "          18       0.92      0.80      0.85      4339\n",
      "          19       0.98      0.73      0.84      1057\n",
      "          20       0.98      0.73      0.84       415\n",
      "          21       0.96      0.89      0.92      1607\n",
      "          22       0.90      0.96      0.93      3158\n",
      "          23       0.90      0.93      0.92      3143\n",
      "          24       0.99      0.68      0.81       503\n",
      "          25       0.90      0.91      0.90      2944\n",
      "          26       1.00      0.72      0.84       402\n",
      "          27       0.96      0.80      0.88      2032\n",
      "          28       0.92      0.97      0.94      8660\n",
      "          29       0.92      0.94      0.93      3576\n",
      "          30       0.90      0.95      0.92      4785\n",
      "          31       0.94      0.84      0.89      1405\n",
      "          32       0.93      0.87      0.90      1341\n",
      "          33       0.98      0.77      0.86       438\n",
      "          34       0.97      0.80      0.88      1435\n",
      "          35       0.99      0.68      0.80       419\n",
      "          36       0.93      0.87      0.90      3491\n",
      "          37       0.97      0.87      0.92      1446\n",
      "          38       0.99      0.72      0.83       431\n",
      "          39       0.91      0.96      0.93      3651\n",
      "          40       0.90      0.98      0.94      9892\n",
      "          41       1.00      0.68      0.81       392\n",
      "          42       0.50      0.44      0.47      1003\n",
      "          43       0.50      0.46      0.48      1003\n",
      "          44       0.99      0.75      0.86       455\n",
      "          45       1.00      0.75      0.86       347\n",
      "          46       0.99      0.75      0.85       434\n",
      "          47       0.89      0.95      0.92      8411\n",
      "          48       1.00      0.71      0.83       410\n",
      "          49       0.93      0.95      0.94      4220\n",
      "          50       1.00      0.71      0.83       439\n",
      "          51       1.00      0.65      0.79       371\n",
      "          52       1.00      0.70      0.82       811\n",
      "          53       0.93      0.97      0.95      5502\n",
      "          54       1.00      0.71      0.83       435\n",
      "          55       0.91      0.92      0.92      7221\n",
      "          56       1.00      0.70      0.82       430\n",
      "          57       0.99      0.76      0.86       430\n",
      "          58       0.98      0.73      0.84       439\n",
      "          59       0.98      0.77      0.86       460\n",
      "          60       1.00      0.73      0.84       390\n",
      "          61       0.98      0.75      0.85       434\n",
      "\n",
      "    accuracy                           0.91    163014\n",
      "   macro avg       0.94      0.82      0.87    163014\n",
      "weighted avg       0.91      0.91      0.91    163014\n",
      "\n"
     ]
    }
   ],
   "source": [
    "from sklearn.metrics import classification_report\n",
    "print(classification_report(labeldata, labeldatapred))"
   ]
  },
  {
   "cell_type": "code",
   "execution_count": 78,
   "id": "17a08f4f",
   "metadata": {},
   "outputs": [],
   "source": [
    "import joblib"
   ]
  },
  {
   "cell_type": "code",
   "execution_count": 79,
   "id": "ad718673",
   "metadata": {},
   "outputs": [
    {
     "data": {
      "text/plain": [
       "['Log_model.joblib']"
      ]
     },
     "execution_count": 79,
     "metadata": {},
     "output_type": "execute_result"
    }
   ],
   "source": [
    "file = \"RF_model.joblib\"\n",
    "joblib.dump(random_forest, file)\n",
    "file1 = 'Log_model.joblib'\n",
    "joblib.dump(log_model, file1)"
   ]
  },
  {
   "cell_type": "code",
   "execution_count": 84,
   "id": "d306212a",
   "metadata": {},
   "outputs": [
    {
     "name": "stdout",
     "output_type": "stream",
     "text": [
      "0.9122774731004699\n"
     ]
    }
   ],
   "source": [
    "loaded_model = joblib.load('RF_model.joblib')\n",
    "result = loaded_model.score(chardata, labeldata)\n",
    "print(result)"
   ]
  },
  {
   "cell_type": "code",
   "execution_count": null,
   "id": "9fe1823a",
   "metadata": {},
   "outputs": [],
   "source": []
  }
 ],
 "metadata": {
  "kernelspec": {
   "display_name": "Python 3",
   "language": "python",
   "name": "python3"
  },
  "language_info": {
   "codemirror_mode": {
    "name": "ipython",
    "version": 3
   },
   "file_extension": ".py",
   "mimetype": "text/x-python",
   "name": "python",
   "nbconvert_exporter": "python",
   "pygments_lexer": "ipython3",
   "version": "3.10.0 (tags/v3.10.0:b494f59, Oct  4 2021, 19:00:18) [MSC v.1929 64 bit (AMD64)]"
  },
  "vscode": {
   "interpreter": {
    "hash": "19f390a82d96c8bbc426ec0cf55738c766ea11b19fe2a80c471a04e24f40dd17"
   }
  }
 },
 "nbformat": 4,
 "nbformat_minor": 5
}
